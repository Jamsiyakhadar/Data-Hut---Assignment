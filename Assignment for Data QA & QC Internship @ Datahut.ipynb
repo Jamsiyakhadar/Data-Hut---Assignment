{
 "cells": [
  {
   "cell_type": "code",
   "execution_count": 28,
   "id": "a244f70f",
   "metadata": {},
   "outputs": [],
   "source": [
    "import pandas as pd\n",
    "import numpy as np\n",
    "import re\n",
    "\n",
    "# Load the Data\n",
    "\n",
    "file_path = (r\"C:\\Users\\Althaf s hussain\\Downloads\\messy_data.csv\")\n",
    "df = pd.read_csv(file_path)"
   ]
  },
  {
   "cell_type": "code",
   "execution_count": 27,
   "id": "d523fb02",
   "metadata": {},
   "outputs": [
    {
     "name": "stdout",
     "output_type": "stream",
     "text": [
      "<class 'pandas.core.frame.DataFrame'>\n",
      "Int64Index: 8728 entries, 0 to 10999\n",
      "Data columns (total 8 columns):\n",
      " #   Column      Non-Null Count  Dtype  \n",
      "---  ------      --------------  -----  \n",
      " 0   Unnamed: 0  8728 non-null   int64  \n",
      " 1   ID          8728 non-null   object \n",
      " 2   Name        7784 non-null   object \n",
      " 3   Age         8295 non-null   float64\n",
      " 4   Email       8728 non-null   object \n",
      " 5   Join Date   7902 non-null   object \n",
      " 6   Salary      8728 non-null   float64\n",
      " 7   Department  7832 non-null   object \n",
      "dtypes: float64(2), int64(1), object(5)\n",
      "memory usage: 613.7+ KB\n"
     ]
    },
    {
     "data": {
      "text/html": [
       "<div>\n",
       "<style scoped>\n",
       "    .dataframe tbody tr th:only-of-type {\n",
       "        vertical-align: middle;\n",
       "    }\n",
       "\n",
       "    .dataframe tbody tr th {\n",
       "        vertical-align: top;\n",
       "    }\n",
       "\n",
       "    .dataframe thead th {\n",
       "        text-align: right;\n",
       "    }\n",
       "</style>\n",
       "<table border=\"1\" class=\"dataframe\">\n",
       "  <thead>\n",
       "    <tr style=\"text-align: right;\">\n",
       "      <th></th>\n",
       "      <th>Unnamed: 0</th>\n",
       "      <th>ID</th>\n",
       "      <th>Name</th>\n",
       "      <th>Age</th>\n",
       "      <th>Email</th>\n",
       "      <th>Join Date</th>\n",
       "      <th>Salary</th>\n",
       "      <th>Department</th>\n",
       "    </tr>\n",
       "  </thead>\n",
       "  <tbody>\n",
       "    <tr>\n",
       "      <th>0</th>\n",
       "      <td>0</td>\n",
       "      <td>1e407ff9-6255-489d-a0de-34135d4f74bd</td>\n",
       "      <td>Hunter Thomas</td>\n",
       "      <td>25.0</td>\n",
       "      <td>xlopez@hotmail.com</td>\n",
       "      <td>NaN</td>\n",
       "      <td>88552.0</td>\n",
       "      <td>Sales</td>\n",
       "    </tr>\n",
       "    <tr>\n",
       "      <th>1</th>\n",
       "      <td>1</td>\n",
       "      <td>379f55b8-87d5-4739-a146-7400b78c24d1</td>\n",
       "      <td>Jeremy Irwin</td>\n",
       "      <td>90.0</td>\n",
       "      <td>Jillian Jenkins</td>\n",
       "      <td>2022-07-07</td>\n",
       "      <td>139227.0</td>\n",
       "      <td>NaN</td>\n",
       "    </tr>\n",
       "    <tr>\n",
       "      <th>2</th>\n",
       "      <td>2</td>\n",
       "      <td>18261368-dfa1-47f0-afc6-bddf45926b07</td>\n",
       "      <td>Jennifer Hammondquickly</td>\n",
       "      <td>66.0</td>\n",
       "      <td>jscottgreen.biz</td>\n",
       "      <td>2023-11-21</td>\n",
       "      <td>65550.0</td>\n",
       "      <td>Engineering</td>\n",
       "    </tr>\n",
       "    <tr>\n",
       "      <th>3</th>\n",
       "      <td>3</td>\n",
       "      <td>ae7cf7cf-17cf-4c8b-9c44-4f61a9a238e5</td>\n",
       "      <td>Sydney Taylorso</td>\n",
       "      <td>39.0</td>\n",
       "      <td>luke56gonzalez.com</td>\n",
       "      <td>2021-11-05</td>\n",
       "      <td>139932.0</td>\n",
       "      <td>SupportJ</td>\n",
       "    </tr>\n",
       "    <tr>\n",
       "      <th>4</th>\n",
       "      <td>4</td>\n",
       "      <td>14ed3e6a-e0f5-4bbe-8d93-8665267f5c90</td>\n",
       "      <td>Julia Lee</td>\n",
       "      <td>71.0</td>\n",
       "      <td>figueroakayla@yahoo.com</td>\n",
       "      <td>NaN</td>\n",
       "      <td>143456.0</td>\n",
       "      <td>Marketing</td>\n",
       "    </tr>\n",
       "  </tbody>\n",
       "</table>\n",
       "</div>"
      ],
      "text/plain": [
       "   Unnamed: 0                                    ID                     Name  \\\n",
       "0           0  1e407ff9-6255-489d-a0de-34135d4f74bd            Hunter Thomas   \n",
       "1           1  379f55b8-87d5-4739-a146-7400b78c24d1             Jeremy Irwin   \n",
       "2           2  18261368-dfa1-47f0-afc6-bddf45926b07  Jennifer Hammondquickly   \n",
       "3           3  ae7cf7cf-17cf-4c8b-9c44-4f61a9a238e5          Sydney Taylorso   \n",
       "4           4  14ed3e6a-e0f5-4bbe-8d93-8665267f5c90                Julia Lee   \n",
       "\n",
       "    Age                    Email   Join Date    Salary   Department  \n",
       "0  25.0       xlopez@hotmail.com         NaN   88552.0        Sales  \n",
       "1  90.0          Jillian Jenkins  2022-07-07  139227.0          NaN  \n",
       "2  66.0          jscottgreen.biz  2023-11-21   65550.0  Engineering  \n",
       "3  39.0       luke56gonzalez.com  2021-11-05  139932.0     SupportJ  \n",
       "4  71.0  figueroakayla@yahoo.com         NaN  143456.0    Marketing  "
      ]
     },
     "execution_count": 27,
     "metadata": {},
     "output_type": "execute_result"
    }
   ],
   "source": [
    "#Inspect the Data\n",
    "\n",
    "df.info()\n",
    "df.describe()\n",
    "df.head()"
   ]
  },
  {
   "cell_type": "code",
   "execution_count": 29,
   "id": "2fd9c47c",
   "metadata": {},
   "outputs": [
    {
     "data": {
      "text/plain": [
       "Unnamed: 0       0\n",
       "ID               0\n",
       "Name          2333\n",
       "Age           1747\n",
       "Email         1269\n",
       "Join Date     2192\n",
       "Salary        2239\n",
       "Department    2255\n",
       "dtype: int64"
      ]
     },
     "execution_count": 29,
     "metadata": {},
     "output_type": "execute_result"
    }
   ],
   "source": [
    "#Handling missing values\n",
    "\n",
    "df.isnull().sum()"
   ]
  },
  {
   "cell_type": "code",
   "execution_count": 30,
   "id": "f8f5adf7",
   "metadata": {},
   "outputs": [],
   "source": [
    "for column in df.columns:\n",
    "    if df[column].dtype == 'object':\n",
    "        df[column].fillna(df[column].mode()[0], inplace=True)\n",
    "    else:\n",
    "        df[column].fillna(df[column].mean(), inplace=True)"
   ]
  },
  {
   "cell_type": "code",
   "execution_count": 31,
   "id": "d0a3a19b",
   "metadata": {},
   "outputs": [
    {
     "data": {
      "text/plain": [
       "Unnamed: 0    0\n",
       "ID            0\n",
       "Name          0\n",
       "Age           0\n",
       "Email         0\n",
       "Join Date     0\n",
       "Salary        0\n",
       "Department    0\n",
       "dtype: int64"
      ]
     },
     "execution_count": 31,
     "metadata": {},
     "output_type": "execute_result"
    }
   ],
   "source": [
    "df.isnull().sum()"
   ]
  },
  {
   "cell_type": "code",
   "execution_count": 32,
   "id": "59251f87",
   "metadata": {},
   "outputs": [],
   "source": [
    "#Remove Duplicates\n",
    "\n",
    "df.drop_duplicates(inplace=True)"
   ]
  },
  {
   "cell_type": "code",
   "execution_count": 33,
   "id": "e68701ad",
   "metadata": {},
   "outputs": [],
   "source": [
    "#Correct email formats\n",
    "\n",
    "def validate_email(email):\n",
    "    pattern = r'^[a-zA-Z0-9._%+-]+@[a-zA-Z0-9.-]+\\.[a-zA-Z]{2,}$'\n",
    "    return re.match(pattern, email)\n",
    "\n",
    "df = df[df['Email'].apply(lambda x: validate_email(x) is not None)]"
   ]
  },
  {
   "cell_type": "code",
   "execution_count": 34,
   "id": "baad9ec3",
   "metadata": {},
   "outputs": [],
   "source": [
    "#Clean name fields\n",
    "\n",
    "df['Name'] = df['Name'].str.replace(r'[^a-zA-Z\\s]', '', regex=True).str.strip().str.title()"
   ]
  },
  {
   "cell_type": "code",
   "execution_count": 35,
   "id": "4b611c30",
   "metadata": {},
   "outputs": [],
   "source": [
    "#standardise date formats\n",
    "\n",
    "df['Join Date'] = pd.to_datetime(df['Join Date'], errors='coerce').dt.strftime('%Y-%m-%d')"
   ]
  },
  {
   "cell_type": "code",
   "execution_count": 36,
   "id": "ac583e71",
   "metadata": {},
   "outputs": [],
   "source": [
    "#Correct department name\n",
    "\n",
    "department_mapping = {\n",
    "    'HR': 'HR',\n",
    "    'Human Resources': 'HR',\n",
    "    'Eng': 'Engineering',\n",
    "    'Engineer': 'Engineering',\n",
    "    'Marketing': 'Marketing',\n",
    "    'Sales': 'Sales',\n",
    "    'Support': 'Support'\n",
    "}"
   ]
  },
  {
   "cell_type": "code",
   "execution_count": 37,
   "id": "49e753e0",
   "metadata": {},
   "outputs": [],
   "source": [
    "df['Department'] = df['Department'].map(department_mapping).fillna(df['Department'])\n"
   ]
  },
  {
   "cell_type": "code",
   "execution_count": 38,
   "id": "d84d4350",
   "metadata": {},
   "outputs": [],
   "source": [
    "#Handle salary noise\n",
    "\n",
    "df = df[(df['Salary'] >= 30000) & (df['Salary'] <= 200000)]"
   ]
  },
  {
   "cell_type": "code",
   "execution_count": 39,
   "id": "32f9a32e",
   "metadata": {},
   "outputs": [],
   "source": [
    "cleaned_file_path=(r\"C:\\Users\\Althaf s hussain\\Downloads\\cleaned_data_csv\")\n",
    "df.to_csv(cleaned_file_path, index=False)"
   ]
  },
  {
   "cell_type": "code",
   "execution_count": null,
   "id": "bf99f8ff",
   "metadata": {},
   "outputs": [],
   "source": []
  }
 ],
 "metadata": {
  "kernelspec": {
   "display_name": "Python 3",
   "language": "python",
   "name": "python3"
  },
  "language_info": {
   "codemirror_mode": {
    "name": "ipython",
    "version": 3
   },
   "file_extension": ".py",
   "mimetype": "text/x-python",
   "name": "python",
   "nbconvert_exporter": "python",
   "pygments_lexer": "ipython3",
   "version": "3.8.8"
  }
 },
 "nbformat": 4,
 "nbformat_minor": 5
}
